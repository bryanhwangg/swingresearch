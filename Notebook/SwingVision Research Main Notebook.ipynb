{
 "cells": [
  {
   "cell_type": "code",
   "execution_count": 37,
   "id": "bb7e8261",
   "metadata": {},
   "outputs": [],
   "source": [
    "import duckdb\n",
    "import pandas as pd\n",
    "import numpy as np\n",
    "from matplotlib import pyplot as plt\n",
    "import seaborn as sns\n",
    "import polars as pl\n",
    "from pandas.api.types import infer_dtype"
   ]
  },
  {
   "cell_type": "code",
   "execution_count": 26,
   "id": "94800d5b",
   "metadata": {},
   "outputs": [],
   "source": [
    "# Using duckdb query to avoid \"ValueError\" from pd.read_json() \n",
    "def duck_json(file_str):\n",
    "    df = duckdb.query(f'''SELECT * FROM read_json({file_str}, auto_detect=True, sample_size=100000)''').to_df() \n",
    "    df.name = file_str\n",
    "    return df\n",
    "\n",
    "\n",
    "shots = duck_json('shots.json')\n",
    "games = duck_json('games.json')\n",
    "points = duck_json('points.json')\n",
    "matches = duck_json('matches.json')\n",
    "\n",
    "df_list = [shots, games, points, matches]"
   ]
  },
  {
   "cell_type": "code",
   "execution_count": 27,
   "id": "a7954a32",
   "metadata": {},
   "outputs": [
    {
     "data": {
      "text/plain": [
       "{'shots.json': (62249, 20),\n",
       " 'games.json': (2128, 12),\n",
       " 'points.json': (11732, 17),\n",
       " 'matches.json': (100, 17)}"
      ]
     },
     "execution_count": 27,
     "metadata": {},
     "output_type": "execute_result"
    }
   ],
   "source": [
    "shapes = {}\n",
    "for df in df_list:\n",
    "    shapes[df.name] = df.shape\n",
    "\n",
    "shapes"
   ]
  },
  {
   "cell_type": "code",
   "execution_count": 38,
   "id": "7dd3bc8c",
   "metadata": {},
   "outputs": [
    {
     "data": {
      "text/plain": [
       "{'match_id': 'floating',\n",
       " 'user_id': 'floating',\n",
       " 'sid': 'integer',\n",
       " 'pid': 'integer',\n",
       " 'set_id': 'integer',\n",
       " 'game_id': 'integer',\n",
       " 'player': 'string',\n",
       " 'shot_type': 'string',\n",
       " 'hit_court_side': 'string',\n",
       " 'hit_type': 'string',\n",
       " 'hit_location_long': 'string',\n",
       " 'hit_location_lat': 'string',\n",
       " 'hit_location': 'mixed',\n",
       " 'hit_velocity': 'mixed',\n",
       " 'hit_wing': 'string',\n",
       " 'net_type': 'string',\n",
       " 'bounce_court_side': 'string',\n",
       " 'bounce_location_long': 'string',\n",
       " 'bounce_location_lat': 'string',\n",
       " 'bounce_location': 'mixed'}"
      ]
     },
     "execution_count": 38,
     "metadata": {},
     "output_type": "execute_result"
    }
   ],
   "source": [
    "# infer_dtype is pretty useful, will probably functionalize this later\n",
    "shots_dtypes = {}\n",
    "for col in shots.columns:\n",
    "    shots_dtypes[col] = infer_dtype(shots[col])\n",
    "\n",
    "shots_dtypes"
   ]
  },
  {
   "cell_type": "code",
   "execution_count": 41,
   "id": "8c902c5a",
   "metadata": {},
   "outputs": [
    {
     "name": "stdout",
     "output_type": "stream",
     "text": [
      "<class 'pandas.core.frame.DataFrame'>\n",
      "RangeIndex: 62249 entries, 0 to 62248\n",
      "Data columns (total 20 columns):\n",
      " #   Column                Non-Null Count  Dtype  \n",
      "---  ------                --------------  -----  \n",
      " 0   match_id              62249 non-null  float64\n",
      " 1   user_id               52796 non-null  float64\n",
      " 2   sid                   62249 non-null  int64  \n",
      " 3   pid                   62249 non-null  int64  \n",
      " 4   set_id                62249 non-null  int64  \n",
      " 5   game_id               62249 non-null  int64  \n",
      " 6   player                62249 non-null  object \n",
      " 7   shot_type             62249 non-null  object \n",
      " 8   hit_court_side        62249 non-null  object \n",
      " 9   hit_type              62249 non-null  object \n",
      " 10  hit_location_long     62249 non-null  object \n",
      " 11  hit_location_lat      62249 non-null  object \n",
      " 12  hit_location          62249 non-null  object \n",
      " 13  hit_velocity          62249 non-null  object \n",
      " 14  hit_wing              62249 non-null  object \n",
      " 15  net_type              62249 non-null  object \n",
      " 16  bounce_court_side     62249 non-null  object \n",
      " 17  bounce_location_long  62249 non-null  object \n",
      " 18  bounce_location_lat   62249 non-null  object \n",
      " 19  bounce_location       62249 non-null  object \n",
      "dtypes: float64(2), int64(4), object(14)\n",
      "memory usage: 9.5+ MB\n"
     ]
    }
   ],
   "source": [
    "shots.info()"
   ]
  },
  {
   "cell_type": "code",
   "execution_count": 45,
   "id": "f91d9464",
   "metadata": {},
   "outputs": [
    {
     "data": {
      "text/plain": [
       "{'match_id': array([9.64239483e+47, 1.40705126e+48, 2.70115592e+47, 1.29562332e+48,\n",
       "        5.26074506e+47, 3.23485238e+47, 9.00750802e+47, 2.45769257e+47,\n",
       "        8.47861948e+47, 8.86922998e+47, 2.38088724e+47, 9.33140447e+46,\n",
       "        1.08648182e+48, 5.31353632e+47, 7.21253803e+47, 1.04062547e+48,\n",
       "        6.06385600e+47, 8.27383837e+47, 6.15434493e+47, 8.93286255e+45,\n",
       "        3.41374592e+47, 1.18943352e+48, 3.45165938e+47, 1.18834967e+48,\n",
       "        1.02639901e+48, 1.41251282e+48, 9.24518323e+47, 4.16780906e+47,\n",
       "        4.13281520e+47, 1.13366570e+48, 1.26188679e+48, 9.37193324e+47,\n",
       "        6.94698592e+47, 4.80016873e+47, 4.11120413e+47, 9.60882826e+47,\n",
       "        9.24521909e+47, 7.26846270e+47, 1.04266754e+48, 2.69780713e+47,\n",
       "        7.52182052e+46, 5.58556317e+47, 1.44765392e+48, 1.59578755e+47,\n",
       "        6.69112456e+47, 3.67155304e+47, 2.12065335e+47, 1.29137449e+48,\n",
       "        6.78517162e+47, 3.98888137e+47, 1.27391318e+48, 2.66504147e+47,\n",
       "        2.18345738e+47, 8.75823036e+47, 6.70885915e+47, 9.18489836e+47,\n",
       "        6.50539052e+47, 5.73210597e+47, 8.22870959e+47, 2.01631810e+47,\n",
       "        2.90002687e+47, 9.84423242e+46, 5.97097593e+47, 3.89001213e+47,\n",
       "        1.13469441e+48, 1.02635467e+47, 9.78701822e+47, 8.35407689e+47,\n",
       "        1.20357218e+48, 2.33182812e+47, 6.79014546e+47, 3.62157385e+47,\n",
       "        1.05284612e+48, 1.33230897e+48, 4.99768026e+47, 9.91753997e+47,\n",
       "        1.38697527e+48, 1.28899318e+48, 7.55179663e+47, 5.95467919e+47,\n",
       "        2.66658979e+47, 7.40215237e+47, 1.43522012e+48, 3.25495388e+47,\n",
       "        5.49288739e+47, 1.43478108e+48, 6.70927093e+47, 1.10884743e+48,\n",
       "        8.64915803e+47, 7.40551055e+47, 7.33092656e+46, 8.56886628e+47,\n",
       "        8.03679008e+47, 2.49932209e+47, 1.22626222e+48, 7.73019118e+47,\n",
       "        5.65857899e+47, 3.66610492e+46]),\n",
       " 'user_id': array([ 4.06348e+05,  4.09254e+05,  8.69100e+04,  4.48419e+05,\n",
       "         1.76590e+05,  5.03960e+04,  3.98768e+05,  2.24117e+05,\n",
       "         3.60403e+05,  4.47786e+05,  8.74000e+04,  3.06954e+05,\n",
       "         3.11225e+05,  4.47357e+05,  4.37650e+05,  4.49587e+05,\n",
       "         4.47684e+05,  4.16612e+05,  1.76515e+05,  2.38427e+05,\n",
       "         3.73084e+05,  6.24300e+03,  4.48735e+05,  4.24962e+05,\n",
       "                 nan,  2.84550e+05,  1.65411e+05,  8.31900e+04,\n",
       "         1.83745e+05,  4.05591e+05,  1.07460e+04,  3.18695e+05,\n",
       "         3.07805e+05,  2.23996e+05,  4.14186e+05,  2.50739e+05,\n",
       "         4.43147e+05,  1.76459e+05,  3.26821e+05,  2.90454e+05,\n",
       "         2.04151e+05,  2.97697e+05,  6.93710e+04,  1.79980e+04,\n",
       "         3.43350e+05,  4.26267e+05,  4.24890e+05,  2.56081e+05,\n",
       "         3.56598e+05,  1.84930e+04,  1.23141e+05,  3.84746e+05,\n",
       "         4.05306e+05,  4.07924e+05,  3.00391e+05,  4.33956e+05,\n",
       "         2.64430e+05,  2.36951e+05,  4.45752e+05,  2.03336e+05,\n",
       "         2.57721e+05,  3.56282e+05,  2.04403e+05,  4.15494e+05,\n",
       "        -1.00000e+00,  4.17428e+05,  4.37182e+05,  2.45241e+05,\n",
       "         3.04391e+05,  3.08768e+05,  4.47670e+05,  7.74970e+04,\n",
       "         3.75722e+05,  3.85092e+05,  6.54640e+04,  1.72719e+05,\n",
       "         4.39908e+05,  1.92410e+05,  1.81310e+05,  1.25456e+05,\n",
       "         2.26730e+05,  3.09191e+05,  3.21754e+05,  3.32868e+05,\n",
       "         4.51578e+05,  4.14289e+05,  4.41411e+05,  3.86091e+05,\n",
       "         7.94210e+04,  7.62390e+04,  4.52590e+05,  4.56125e+05,\n",
       "         4.52319e+05,  4.49598e+05,  4.48530e+05,  4.05202e+05,\n",
       "         1.09534e+05,  4.07767e+05,  1.83366e+05,  2.59327e+05,\n",
       "         1.71777e+05,  4.57293e+05,  8.65710e+04,  4.49966e+05,\n",
       "         1.14956e+05,  4.49263e+05,  8.00400e+03,  4.56409e+05,\n",
       "         4.56415e+05,  3.97758e+05,  3.91245e+05,  4.51285e+05,\n",
       "         7.87300e+03,  4.56000e+03,  4.19848e+05,  3.71379e+05,\n",
       "         3.51507e+05,  2.75305e+05,  3.21073e+05,  4.04968e+05,\n",
       "         4.48897e+05,  4.56318e+05,  4.54005e+05,  2.88614e+05,\n",
       "         8.26280e+04,  2.59324e+05,  4.68100e+03,  7.25600e+04,\n",
       "         4.57267e+05,  1.04789e+05,  3.32167e+05,  3.21056e+05,\n",
       "         1.75407e+05,  3.84975e+05,  4.44921e+05,  4.45255e+05,\n",
       "         2.67120e+04,  4.46766e+05,  4.55458e+05]),\n",
       " 'sid': array([   1,    2,    3, ..., 1703, 1704, 1705]),\n",
       " 'pid': array([  1,   2,   3,   4,   5,   6,   7,   8,   9,  10,  11,  12,  13,\n",
       "         14,  15,  16,  17,  18,  19,  20,  21,  22,  23,  24,  25,  26,\n",
       "         27,  28,  29,  30,  31,  32,  33,  34,  35,  36,  37,  38,  39,\n",
       "         40,  41,  42,  43,  44,  45,  46,  47,  48,  49,  50,  51,  52,\n",
       "         53,  54,  55,  56,  57,  58,  59,  60,  61,  63,  64,  66,  67,\n",
       "         68,  69,  70,  71,  72,  73,  74,  75,  76,  77,  78,  79,  80,\n",
       "         81,  82,  83,  84,  85,  86,  88,  90,  91,  92,  93,  94,  95,\n",
       "         96,  97,  98,  99, 100, 101, 102, 103, 104, 105, 106, 107, 108,\n",
       "        109, 110, 111, 113, 114, 115, 116, 118, 120, 121, 122, 123, 124,\n",
       "        125, 126, 127, 128, 129, 130, 131, 132, 133, 134, 135, 136, 137,\n",
       "        138, 139, 140, 141, 142, 143, 144, 145, 146, 147, 148,  62,  65,\n",
       "         87,  89, 112, 117, 119, 149, 150, 151, 152, 153, 154, 155, 156,\n",
       "        157, 158, 159, 160, 161, 162, 163, 164, 165, 166, 167, 168, 169,\n",
       "        170, 171, 172, 173, 174, 175, 176, 177, 178, 179, 180, 181, 182,\n",
       "        183, 184, 185, 186, 187, 188, 189, 190, 191, 192, 193, 194, 195,\n",
       "        196, 357, 358, 359, 360, 361, 197, 198, 199, 200, 201, 202, 203,\n",
       "        204, 205, 206, 207, 208, 209, 210, 211, 212, 213, 214, 215, 216,\n",
       "        217, 218, 219, 220, 221, 222, 223, 224, 225, 226, 227, 228, 229,\n",
       "        230, 231, 232, 233, 234, 235, 236, 237, 238, 239, 240, 241, 242,\n",
       "        243, 244, 245, 246, 247, 248, 249, 250, 251, 252, 253, 254, 255,\n",
       "        256, 257, 258, 259, 260, 261, 262, 263, 264, 265, 266, 267, 268,\n",
       "        269, 270, 271, 272, 273, 274, 275, 276, 277, 278, 279, 280, 281,\n",
       "        282, 283, 284, 285, 286, 287, 288, 289, 290, 291, 292, 293, 294,\n",
       "        295, 296, 297, 298, 299, 300, 301, 302, 303, 304, 305, 306, 307,\n",
       "        308, 309, 310, 311, 312, 313, 314, 315, 316, 317, 318, 319, 320,\n",
       "        321, 322, 323, 324, 325, 326, 327, 328]),\n",
       " 'set_id': array([0, 1, 2, 3, 4]),\n",
       " 'game_id': array([ 0,  1,  2,  3,  4,  5,  6,  7,  8,  9, 10, 11, 12, 13, 14, 15, 16,\n",
       "        17, 18, 19, 20, 21, 22, 23, 24, 25, 26, 27, 28, 29, 30, 31, 32, 33,\n",
       "        34]),\n",
       " 'player': array(['host', 'guest'], dtype=object),\n",
       " 'shot_type': array(['none', 'serve', 'first_serve', 'second_serve', 'return',\n",
       "        'serve_plus_one', 'return_plus_one', 'in_play'], dtype=object),\n",
       " 'hit_court_side': array(['near', 'far'], dtype=object),\n",
       " 'hit_type': array(['feed', 'ground_stroke', 'volley', 'serve', 'first_serve',\n",
       "        'second_serve', 'overhead'], dtype=object),\n",
       " 'hit_location_long': array(['no_mans_land', 'out', 'service_box'], dtype=object),\n",
       " 'hit_location_lat': array(['deuce', 'ad', 'ad_alley', 'deuce_alley', 'deuce_out', 'ad_out',\n",
       "        'center_line'], dtype=object),\n",
       " 'hit_wing': array(['right', 'left', 'top'], dtype=object),\n",
       " 'net_type': array(['over', 'net'], dtype=object),\n",
       " 'bounce_court_side': array(['far', 'near', 'net'], dtype=object),\n",
       " 'bounce_location_long': array(['service_box', 'no_mans_land', 'out'], dtype=object),\n",
       " 'bounce_location_lat': array(['ad', 'deuce', 'ad_alley', 'ad_out', 'deuce_alley', 'deuce_out',\n",
       "        'center_line'], dtype=object)}"
      ]
     },
     "execution_count": 45,
     "metadata": {},
     "output_type": "execute_result"
    }
   ],
   "source": [
    "nolist_shots = shots.copy(deep = True)\n",
    "\n",
    "# Get rid of unhashable columns for dictionary\n",
    "nolist_shots = nolist_shots.drop(['hit_location', 'hit_velocity', 'bounce_location'], axis = 'columns')\n",
    "\n",
    "shots_unique_vals = {}\n",
    "for col in nolist_shots.columns:\n",
    "    shots_unique_vals[col] = pd.unique(nolist_shots[col])\n",
    "\n",
    "# I recommend during on scroll for this dictionary\n",
    "shots_unique_vals"
   ]
  },
  {
   "cell_type": "code",
   "execution_count": 51,
   "id": "5666d33a",
   "metadata": {},
   "outputs": [
    {
     "data": {
      "text/html": [
       "<div>\n",
       "<style scoped>\n",
       "    .dataframe tbody tr th:only-of-type {\n",
       "        vertical-align: middle;\n",
       "    }\n",
       "\n",
       "    .dataframe tbody tr th {\n",
       "        vertical-align: top;\n",
       "    }\n",
       "\n",
       "    .dataframe thead th {\n",
       "        text-align: right;\n",
       "    }\n",
       "</style>\n",
       "<table border=\"1\" class=\"dataframe\">\n",
       "  <thead>\n",
       "    <tr style=\"text-align: right;\">\n",
       "      <th></th>\n",
       "      <th>match_id</th>\n",
       "      <th>user_id</th>\n",
       "      <th>sid</th>\n",
       "      <th>pid</th>\n",
       "      <th>set_id</th>\n",
       "      <th>game_id</th>\n",
       "      <th>player</th>\n",
       "      <th>shot_type</th>\n",
       "      <th>hit_court_side</th>\n",
       "      <th>hit_type</th>\n",
       "      <th>hit_location_long</th>\n",
       "      <th>hit_location_lat</th>\n",
       "      <th>hit_location</th>\n",
       "      <th>hit_velocity</th>\n",
       "      <th>hit_wing</th>\n",
       "      <th>net_type</th>\n",
       "      <th>bounce_court_side</th>\n",
       "      <th>bounce_location_long</th>\n",
       "      <th>bounce_location_lat</th>\n",
       "      <th>bounce_location</th>\n",
       "    </tr>\n",
       "  </thead>\n",
       "  <tbody>\n",
       "  </tbody>\n",
       "</table>\n",
       "</div>"
      ],
      "text/plain": [
       "Empty DataFrame\n",
       "Columns: [match_id, user_id, sid, pid, set_id, game_id, player, shot_type, hit_court_side, hit_type, hit_location_long, hit_location_lat, hit_location, hit_velocity, hit_wing, net_type, bounce_court_side, bounce_location_long, bounce_location_lat, bounce_location]\n",
       "Index: []"
      ]
     },
     "execution_count": 51,
     "metadata": {},
     "output_type": "execute_result"
    }
   ],
   "source": [
    "# empty dataframe shows there's no shots that have 'net' and bounce over to other side, so this column is probably just to show if the shot hits net and doesn't go over\n",
    "shots[(shots['net_type'] == 'net' ) & (shots['hit_court_side'] == 'near') & (shots['bounce_court_side'] == 'far')]"
   ]
  },
  {
   "cell_type": "code",
   "execution_count": null,
   "id": "eedd88b6",
   "metadata": {},
   "outputs": [],
   "source": []
  }
 ],
 "metadata": {
  "kernelspec": {
   "display_name": "Python 3 (ipykernel)",
   "language": "python",
   "name": "python3"
  },
  "language_info": {
   "codemirror_mode": {
    "name": "ipython",
    "version": 3
   },
   "file_extension": ".py",
   "mimetype": "text/x-python",
   "name": "python",
   "nbconvert_exporter": "python",
   "pygments_lexer": "ipython3",
   "version": "3.10.4"
  }
 },
 "nbformat": 4,
 "nbformat_minor": 5
}
